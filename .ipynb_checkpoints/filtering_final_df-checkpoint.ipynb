{
 "cells": [
  {
   "cell_type": "code",
   "execution_count": 664,
   "id": "d18a2c37",
   "metadata": {},
   "outputs": [],
   "source": [
    "import pandas as pd\n",
    "pd.set_option('display.float_format', '{:.2f}'.format)"
   ]
  },
  {
   "cell_type": "code",
   "execution_count": 665,
   "id": "63aaca62",
   "metadata": {},
   "outputs": [],
   "source": [
    "df = pd.read_csv('df_final.csv')"
   ]
  },
  {
   "cell_type": "code",
   "execution_count": 666,
   "id": "85350f73",
   "metadata": {},
   "outputs": [],
   "source": [
    "df = df.drop(columns=['Unnamed: 0'])"
   ]
  },
  {
   "cell_type": "code",
   "execution_count": 667,
   "id": "3e86aa6e",
   "metadata": {},
   "outputs": [
    {
     "data": {
      "text/html": [
       "<div>\n",
       "<style scoped>\n",
       "    .dataframe tbody tr th:only-of-type {\n",
       "        vertical-align: middle;\n",
       "    }\n",
       "\n",
       "    .dataframe tbody tr th {\n",
       "        vertical-align: top;\n",
       "    }\n",
       "\n",
       "    .dataframe thead th {\n",
       "        text-align: right;\n",
       "    }\n",
       "</style>\n",
       "<table border=\"1\" class=\"dataframe\">\n",
       "  <thead>\n",
       "    <tr style=\"text-align: right;\">\n",
       "      <th></th>\n",
       "      <th>year</th>\n",
       "      <th>month</th>\n",
       "      <th>day</th>\n",
       "      <th>hour</th>\n",
       "      <th>quantity_purchased</th>\n",
       "      <th>amount_in_gbp</th>\n",
       "      <th>branch_name</th>\n",
       "      <th>product</th>\n",
       "      <th>region</th>\n",
       "      <th>county</th>\n",
       "      <th>established_on</th>\n",
       "      <th>operational_cost</th>\n",
       "      <th>staff_bonuses</th>\n",
       "      <th>misc_expenses</th>\n",
       "      <th>waste_cost</th>\n",
       "      <th>manufactuter</th>\n",
       "      <th>category</th>\n",
       "      <th>price</th>\n",
       "    </tr>\n",
       "  </thead>\n",
       "  <tbody>\n",
       "    <tr>\n",
       "      <th>0</th>\n",
       "      <td>2010</td>\n",
       "      <td>1</td>\n",
       "      <td>9</td>\n",
       "      <td>0</td>\n",
       "      <td>182</td>\n",
       "      <td>145.60</td>\n",
       "      <td>Bassetlaw outlet</td>\n",
       "      <td>chocolate twist</td>\n",
       "      <td>East Midlands</td>\n",
       "      <td>Bassetlaw</td>\n",
       "      <td>2010</td>\n",
       "      <td>2838</td>\n",
       "      <td>296</td>\n",
       "      <td>9455</td>\n",
       "      <td>6366</td>\n",
       "      <td>in-house</td>\n",
       "      <td>bakery</td>\n",
       "      <td>1.00</td>\n",
       "    </tr>\n",
       "    <tr>\n",
       "      <th>1</th>\n",
       "      <td>2010</td>\n",
       "      <td>1</td>\n",
       "      <td>9</td>\n",
       "      <td>0</td>\n",
       "      <td>98</td>\n",
       "      <td>313.60</td>\n",
       "      <td>Bassetlaw outlet</td>\n",
       "      <td>plastic sunshades</td>\n",
       "      <td>East Midlands</td>\n",
       "      <td>Bassetlaw</td>\n",
       "      <td>2010</td>\n",
       "      <td>2838</td>\n",
       "      <td>296</td>\n",
       "      <td>9455</td>\n",
       "      <td>6366</td>\n",
       "      <td>in-house</td>\n",
       "      <td>clothing</td>\n",
       "      <td>4.00</td>\n",
       "    </tr>\n",
       "  </tbody>\n",
       "</table>\n",
       "</div>"
      ],
      "text/plain": [
       "   year  month  day  hour quantity_purchased  amount_in_gbp       branch_name  \\\n",
       "0  2010      1    9     0                182         145.60  Bassetlaw outlet   \n",
       "1  2010      1    9     0                 98         313.60  Bassetlaw outlet   \n",
       "\n",
       "             product         region     county  established_on  \\\n",
       "0    chocolate twist  East Midlands  Bassetlaw            2010   \n",
       "1  plastic sunshades  East Midlands  Bassetlaw            2010   \n",
       "\n",
       "   operational_cost  staff_bonuses  misc_expenses  waste_cost manufactuter  \\\n",
       "0              2838            296           9455        6366     in-house   \n",
       "1              2838            296           9455        6366     in-house   \n",
       "\n",
       "   category  price  \n",
       "0    bakery   1.00  \n",
       "1  clothing   4.00  "
      ]
     },
     "execution_count": 667,
     "metadata": {},
     "output_type": "execute_result"
    }
   ],
   "source": [
    "df.head(2)"
   ]
  },
  {
   "cell_type": "code",
   "execution_count": 668,
   "id": "9c7b7744",
   "metadata": {},
   "outputs": [
    {
     "data": {
      "text/plain": [
       "year                    int64\n",
       "month                   int64\n",
       "day                     int64\n",
       "hour                    int64\n",
       "quantity_purchased     object\n",
       "amount_in_gbp         float64\n",
       "branch_name            object\n",
       "product                object\n",
       "region                 object\n",
       "county                 object\n",
       "established_on          int64\n",
       "operational_cost        int64\n",
       "staff_bonuses           int64\n",
       "misc_expenses           int64\n",
       "waste_cost              int64\n",
       "manufactuter           object\n",
       "category               object\n",
       "price                 float64\n",
       "dtype: object"
      ]
     },
     "execution_count": 668,
     "metadata": {},
     "output_type": "execute_result"
    }
   ],
   "source": [
    "df.dtypes"
   ]
  },
  {
   "cell_type": "code",
   "execution_count": 669,
   "id": "ee0af3cf",
   "metadata": {},
   "outputs": [],
   "source": [
    "df['quantity_purchased'] = df['quantity_purchased'].replace('-', '')"
   ]
  },
  {
   "cell_type": "code",
   "execution_count": 670,
   "id": "c0d4fe97",
   "metadata": {},
   "outputs": [],
   "source": [
    "df['quantity_purchased'] = pd.to_numeric(df['quantity_purchased'])"
   ]
  },
  {
   "cell_type": "code",
   "execution_count": 671,
   "id": "80414f5c",
   "metadata": {},
   "outputs": [
    {
     "data": {
      "text/html": [
       "<div>\n",
       "<style scoped>\n",
       "    .dataframe tbody tr th:only-of-type {\n",
       "        vertical-align: middle;\n",
       "    }\n",
       "\n",
       "    .dataframe tbody tr th {\n",
       "        vertical-align: top;\n",
       "    }\n",
       "\n",
       "    .dataframe thead th {\n",
       "        text-align: right;\n",
       "    }\n",
       "</style>\n",
       "<table border=\"1\" class=\"dataframe\">\n",
       "  <thead>\n",
       "    <tr style=\"text-align: right;\">\n",
       "      <th></th>\n",
       "      <th>year</th>\n",
       "      <th>month</th>\n",
       "      <th>day</th>\n",
       "      <th>hour</th>\n",
       "      <th>quantity_purchased</th>\n",
       "      <th>amount_in_gbp</th>\n",
       "      <th>branch_name</th>\n",
       "      <th>product</th>\n",
       "      <th>region</th>\n",
       "      <th>county</th>\n",
       "      <th>established_on</th>\n",
       "      <th>operational_cost</th>\n",
       "      <th>staff_bonuses</th>\n",
       "      <th>misc_expenses</th>\n",
       "      <th>waste_cost</th>\n",
       "      <th>manufactuter</th>\n",
       "      <th>category</th>\n",
       "      <th>price</th>\n",
       "    </tr>\n",
       "  </thead>\n",
       "  <tbody>\n",
       "    <tr>\n",
       "      <th>0</th>\n",
       "      <td>2010</td>\n",
       "      <td>1</td>\n",
       "      <td>9</td>\n",
       "      <td>0</td>\n",
       "      <td>182.00</td>\n",
       "      <td>145.60</td>\n",
       "      <td>Bassetlaw outlet</td>\n",
       "      <td>chocolate twist</td>\n",
       "      <td>East Midlands</td>\n",
       "      <td>Bassetlaw</td>\n",
       "      <td>2010</td>\n",
       "      <td>2838</td>\n",
       "      <td>296</td>\n",
       "      <td>9455</td>\n",
       "      <td>6366</td>\n",
       "      <td>in-house</td>\n",
       "      <td>bakery</td>\n",
       "      <td>1.00</td>\n",
       "    </tr>\n",
       "    <tr>\n",
       "      <th>1</th>\n",
       "      <td>2010</td>\n",
       "      <td>1</td>\n",
       "      <td>9</td>\n",
       "      <td>0</td>\n",
       "      <td>98.00</td>\n",
       "      <td>313.60</td>\n",
       "      <td>Bassetlaw outlet</td>\n",
       "      <td>plastic sunshades</td>\n",
       "      <td>East Midlands</td>\n",
       "      <td>Bassetlaw</td>\n",
       "      <td>2010</td>\n",
       "      <td>2838</td>\n",
       "      <td>296</td>\n",
       "      <td>9455</td>\n",
       "      <td>6366</td>\n",
       "      <td>in-house</td>\n",
       "      <td>clothing</td>\n",
       "      <td>4.00</td>\n",
       "    </tr>\n",
       "  </tbody>\n",
       "</table>\n",
       "</div>"
      ],
      "text/plain": [
       "   year  month  day  hour  quantity_purchased  amount_in_gbp  \\\n",
       "0  2010      1    9     0              182.00         145.60   \n",
       "1  2010      1    9     0               98.00         313.60   \n",
       "\n",
       "        branch_name            product         region     county  \\\n",
       "0  Bassetlaw outlet    chocolate twist  East Midlands  Bassetlaw   \n",
       "1  Bassetlaw outlet  plastic sunshades  East Midlands  Bassetlaw   \n",
       "\n",
       "   established_on  operational_cost  staff_bonuses  misc_expenses  waste_cost  \\\n",
       "0            2010              2838            296           9455        6366   \n",
       "1            2010              2838            296           9455        6366   \n",
       "\n",
       "  manufactuter  category  price  \n",
       "0     in-house    bakery   1.00  \n",
       "1     in-house  clothing   4.00  "
      ]
     },
     "execution_count": 671,
     "metadata": {},
     "output_type": "execute_result"
    }
   ],
   "source": [
    "df.head(2)"
   ]
  },
  {
   "cell_type": "code",
   "execution_count": 672,
   "id": "5d5eee03",
   "metadata": {},
   "outputs": [],
   "source": [
    "top_products_overall = df.groupby('product').agg({'quantity_purchased' : 'sum'}).nlargest(5, 'quantity_purchased').reset_index()"
   ]
  },
  {
   "cell_type": "code",
   "execution_count": 673,
   "id": "e2df1654",
   "metadata": {},
   "outputs": [
    {
     "data": {
      "text/html": [
       "<div>\n",
       "<style scoped>\n",
       "    .dataframe tbody tr th:only-of-type {\n",
       "        vertical-align: middle;\n",
       "    }\n",
       "\n",
       "    .dataframe tbody tr th {\n",
       "        vertical-align: top;\n",
       "    }\n",
       "\n",
       "    .dataframe thead th {\n",
       "        text-align: right;\n",
       "    }\n",
       "</style>\n",
       "<table border=\"1\" class=\"dataframe\">\n",
       "  <thead>\n",
       "    <tr style=\"text-align: right;\">\n",
       "      <th></th>\n",
       "      <th>product</th>\n",
       "      <th>quantity_purchased</th>\n",
       "    </tr>\n",
       "  </thead>\n",
       "  <tbody>\n",
       "    <tr>\n",
       "      <th>0</th>\n",
       "      <td>custard doughnut</td>\n",
       "      <td>25119.00</td>\n",
       "    </tr>\n",
       "    <tr>\n",
       "      <th>1</th>\n",
       "      <td>organic soured cream</td>\n",
       "      <td>23794.00</td>\n",
       "    </tr>\n",
       "    <tr>\n",
       "      <th>2</th>\n",
       "      <td>pain au chocolate</td>\n",
       "      <td>22455.00</td>\n",
       "    </tr>\n",
       "    <tr>\n",
       "      <th>3</th>\n",
       "      <td>free range large eggs x12</td>\n",
       "      <td>22403.00</td>\n",
       "    </tr>\n",
       "    <tr>\n",
       "      <th>4</th>\n",
       "      <td>cod fillets</td>\n",
       "      <td>22362.00</td>\n",
       "    </tr>\n",
       "  </tbody>\n",
       "</table>\n",
       "</div>"
      ],
      "text/plain": [
       "                     product  quantity_purchased\n",
       "0           custard doughnut            25119.00\n",
       "1       organic soured cream            23794.00\n",
       "2          pain au chocolate            22455.00\n",
       "3  free range large eggs x12            22403.00\n",
       "4                cod fillets            22362.00"
      ]
     },
     "execution_count": 673,
     "metadata": {},
     "output_type": "execute_result"
    }
   ],
   "source": [
    "top_products_overall"
   ]
  },
  {
   "cell_type": "code",
   "execution_count": 674,
   "id": "fced6ef0",
   "metadata": {},
   "outputs": [],
   "source": [
    "bot_products_overall = df.groupby('product').agg({'quantity_purchased' : 'sum'}).nsmallest(5, 'quantity_purchased').reset_index()"
   ]
  },
  {
   "cell_type": "code",
   "execution_count": 675,
   "id": "0be23f92",
   "metadata": {},
   "outputs": [
    {
     "data": {
      "text/html": [
       "<div>\n",
       "<style scoped>\n",
       "    .dataframe tbody tr th:only-of-type {\n",
       "        vertical-align: middle;\n",
       "    }\n",
       "\n",
       "    .dataframe tbody tr th {\n",
       "        vertical-align: top;\n",
       "    }\n",
       "\n",
       "    .dataframe thead th {\n",
       "        text-align: right;\n",
       "    }\n",
       "</style>\n",
       "<table border=\"1\" class=\"dataframe\">\n",
       "  <thead>\n",
       "    <tr style=\"text-align: right;\">\n",
       "      <th></th>\n",
       "      <th>product</th>\n",
       "      <th>quantity_purchased</th>\n",
       "    </tr>\n",
       "  </thead>\n",
       "  <tbody>\n",
       "    <tr>\n",
       "      <th>0</th>\n",
       "      <td>british fresh chicken brest fillets</td>\n",
       "      <td>14913.00</td>\n",
       "    </tr>\n",
       "    <tr>\n",
       "      <th>1</th>\n",
       "      <td>british parsnips loose</td>\n",
       "      <td>15434.00</td>\n",
       "    </tr>\n",
       "    <tr>\n",
       "      <th>2</th>\n",
       "      <td>macaron - x3</td>\n",
       "      <td>16170.00</td>\n",
       "    </tr>\n",
       "    <tr>\n",
       "      <th>3</th>\n",
       "      <td>samsung washing machine</td>\n",
       "      <td>16175.00</td>\n",
       "    </tr>\n",
       "    <tr>\n",
       "      <th>4</th>\n",
       "      <td>British baking potatoes loose</td>\n",
       "      <td>16279.00</td>\n",
       "    </tr>\n",
       "  </tbody>\n",
       "</table>\n",
       "</div>"
      ],
      "text/plain": [
       "                               product  quantity_purchased\n",
       "0  british fresh chicken brest fillets            14913.00\n",
       "1               british parsnips loose            15434.00\n",
       "2                         macaron - x3            16170.00\n",
       "3              samsung washing machine            16175.00\n",
       "4        British baking potatoes loose            16279.00"
      ]
     },
     "execution_count": 675,
     "metadata": {},
     "output_type": "execute_result"
    }
   ],
   "source": [
    "bot_products_overall"
   ]
  },
  {
   "cell_type": "code",
   "execution_count": 676,
   "id": "aa631b68",
   "metadata": {},
   "outputs": [
    {
     "data": {
      "text/plain": [
       "9"
      ]
     },
     "execution_count": 676,
     "metadata": {},
     "output_type": "execute_result"
    }
   ],
   "source": [
    "df['category'].nunique()"
   ]
  },
  {
   "cell_type": "code",
   "execution_count": 677,
   "id": "feb529be",
   "metadata": {},
   "outputs": [],
   "source": [
    "top_cat_overall = df.groupby('category').agg({'quantity_purchased' : 'sum'}).nlargest(4, 'quantity_purchased').reset_index()"
   ]
  },
  {
   "cell_type": "code",
   "execution_count": 678,
   "id": "3da3264c",
   "metadata": {},
   "outputs": [
    {
     "data": {
      "text/html": [
       "<div>\n",
       "<style scoped>\n",
       "    .dataframe tbody tr th:only-of-type {\n",
       "        vertical-align: middle;\n",
       "    }\n",
       "\n",
       "    .dataframe tbody tr th {\n",
       "        vertical-align: top;\n",
       "    }\n",
       "\n",
       "    .dataframe thead th {\n",
       "        text-align: right;\n",
       "    }\n",
       "</style>\n",
       "<table border=\"1\" class=\"dataframe\">\n",
       "  <thead>\n",
       "    <tr style=\"text-align: right;\">\n",
       "      <th></th>\n",
       "      <th>category</th>\n",
       "      <th>quantity_purchased</th>\n",
       "    </tr>\n",
       "  </thead>\n",
       "  <tbody>\n",
       "    <tr>\n",
       "      <th>0</th>\n",
       "      <td>dairy</td>\n",
       "      <td>398650.00</td>\n",
       "    </tr>\n",
       "    <tr>\n",
       "      <th>1</th>\n",
       "      <td>meat &amp; fish</td>\n",
       "      <td>386075.00</td>\n",
       "    </tr>\n",
       "    <tr>\n",
       "      <th>2</th>\n",
       "      <td>clothing</td>\n",
       "      <td>368483.00</td>\n",
       "    </tr>\n",
       "    <tr>\n",
       "      <th>3</th>\n",
       "      <td>fruits &amp; vegetables</td>\n",
       "      <td>353637.00</td>\n",
       "    </tr>\n",
       "  </tbody>\n",
       "</table>\n",
       "</div>"
      ],
      "text/plain": [
       "              category  quantity_purchased\n",
       "0                dairy           398650.00\n",
       "1          meat & fish           386075.00\n",
       "2             clothing           368483.00\n",
       "3  fruits & vegetables           353637.00"
      ]
     },
     "execution_count": 678,
     "metadata": {},
     "output_type": "execute_result"
    }
   ],
   "source": [
    "top_cat_overall"
   ]
  },
  {
   "cell_type": "code",
   "execution_count": 679,
   "id": "5d289979",
   "metadata": {},
   "outputs": [],
   "source": [
    "bot_cat_overall = df.groupby('category').agg({'quantity_purchased' : 'sum'}).nsmallest(4, 'quantity_purchased').reset_index()"
   ]
  },
  {
   "cell_type": "code",
   "execution_count": 680,
   "id": "080fd138",
   "metadata": {},
   "outputs": [
    {
     "data": {
      "text/html": [
       "<div>\n",
       "<style scoped>\n",
       "    .dataframe tbody tr th:only-of-type {\n",
       "        vertical-align: middle;\n",
       "    }\n",
       "\n",
       "    .dataframe tbody tr th {\n",
       "        vertical-align: top;\n",
       "    }\n",
       "\n",
       "    .dataframe thead th {\n",
       "        text-align: right;\n",
       "    }\n",
       "</style>\n",
       "<table border=\"1\" class=\"dataframe\">\n",
       "  <thead>\n",
       "    <tr style=\"text-align: right;\">\n",
       "      <th></th>\n",
       "      <th>category</th>\n",
       "      <th>quantity_purchased</th>\n",
       "    </tr>\n",
       "  </thead>\n",
       "  <tbody>\n",
       "    <tr>\n",
       "      <th>0</th>\n",
       "      <td>fruits &amp; vegetable</td>\n",
       "      <td>17942.00</td>\n",
       "    </tr>\n",
       "    <tr>\n",
       "      <th>1</th>\n",
       "      <td>computing</td>\n",
       "      <td>108628.00</td>\n",
       "    </tr>\n",
       "    <tr>\n",
       "      <th>2</th>\n",
       "      <td>appliances</td>\n",
       "      <td>129290.00</td>\n",
       "    </tr>\n",
       "    <tr>\n",
       "      <th>3</th>\n",
       "      <td>gaming</td>\n",
       "      <td>265831.00</td>\n",
       "    </tr>\n",
       "  </tbody>\n",
       "</table>\n",
       "</div>"
      ],
      "text/plain": [
       "             category  quantity_purchased\n",
       "0  fruits & vegetable            17942.00\n",
       "1           computing           108628.00\n",
       "2          appliances           129290.00\n",
       "3              gaming           265831.00"
      ]
     },
     "execution_count": 680,
     "metadata": {},
     "output_type": "execute_result"
    }
   ],
   "source": [
    "bot_cat_overall"
   ]
  },
  {
   "cell_type": "code",
   "execution_count": 681,
   "id": "6b4467e3",
   "metadata": {},
   "outputs": [
    {
     "data": {
      "text/plain": [
       "3"
      ]
     },
     "execution_count": 681,
     "metadata": {},
     "output_type": "execute_result"
    }
   ],
   "source": [
    "df['region'].nunique()"
   ]
  },
  {
   "cell_type": "code",
   "execution_count": 682,
   "id": "ed0acbc0",
   "metadata": {},
   "outputs": [],
   "source": [
    "top_products_region = df.groupby(['product', 'region']).agg({'quantity_purchased' : 'sum'}).nlargest(1, 'quantity_purchased').reset_index()"
   ]
  },
  {
   "cell_type": "code",
   "execution_count": 683,
   "id": "f2c5bcae",
   "metadata": {},
   "outputs": [
    {
     "data": {
      "text/html": [
       "<div>\n",
       "<style scoped>\n",
       "    .dataframe tbody tr th:only-of-type {\n",
       "        vertical-align: middle;\n",
       "    }\n",
       "\n",
       "    .dataframe tbody tr th {\n",
       "        vertical-align: top;\n",
       "    }\n",
       "\n",
       "    .dataframe thead th {\n",
       "        text-align: right;\n",
       "    }\n",
       "</style>\n",
       "<table border=\"1\" class=\"dataframe\">\n",
       "  <thead>\n",
       "    <tr style=\"text-align: right;\">\n",
       "      <th></th>\n",
       "      <th>product</th>\n",
       "      <th>region</th>\n",
       "      <th>quantity_purchased</th>\n",
       "    </tr>\n",
       "  </thead>\n",
       "  <tbody>\n",
       "    <tr>\n",
       "      <th>0</th>\n",
       "      <td>organic soured cream</td>\n",
       "      <td>East Midlands</td>\n",
       "      <td>14754.00</td>\n",
       "    </tr>\n",
       "  </tbody>\n",
       "</table>\n",
       "</div>"
      ],
      "text/plain": [
       "                product         region  quantity_purchased\n",
       "0  organic soured cream  East Midlands            14754.00"
      ]
     },
     "execution_count": 683,
     "metadata": {},
     "output_type": "execute_result"
    }
   ],
   "source": [
    "top_products_region"
   ]
  },
  {
   "cell_type": "code",
   "execution_count": 684,
   "id": "1224e538",
   "metadata": {},
   "outputs": [],
   "source": [
    "bot_products_region = df.groupby(['product', 'region']).agg({'quantity_purchased' : 'sum'}).nsmallest(1, 'quantity_purchased').reset_index()"
   ]
  },
  {
   "cell_type": "code",
   "execution_count": 685,
   "id": "a2931236",
   "metadata": {},
   "outputs": [
    {
     "data": {
      "text/html": [
       "<div>\n",
       "<style scoped>\n",
       "    .dataframe tbody tr th:only-of-type {\n",
       "        vertical-align: middle;\n",
       "    }\n",
       "\n",
       "    .dataframe tbody tr th {\n",
       "        vertical-align: top;\n",
       "    }\n",
       "\n",
       "    .dataframe thead th {\n",
       "        text-align: right;\n",
       "    }\n",
       "</style>\n",
       "<table border=\"1\" class=\"dataframe\">\n",
       "  <thead>\n",
       "    <tr style=\"text-align: right;\">\n",
       "      <th></th>\n",
       "      <th>product</th>\n",
       "      <th>region</th>\n",
       "      <th>quantity_purchased</th>\n",
       "    </tr>\n",
       "  </thead>\n",
       "  <tbody>\n",
       "    <tr>\n",
       "      <th>0</th>\n",
       "      <td>21 day mature ribeye steak</td>\n",
       "      <td>East of England</td>\n",
       "      <td>0.00</td>\n",
       "    </tr>\n",
       "  </tbody>\n",
       "</table>\n",
       "</div>"
      ],
      "text/plain": [
       "                      product           region  quantity_purchased\n",
       "0  21 day mature ribeye steak  East of England                0.00"
      ]
     },
     "execution_count": 685,
     "metadata": {},
     "output_type": "execute_result"
    }
   ],
   "source": [
    "bot_products_region"
   ]
  },
  {
   "cell_type": "code",
   "execution_count": 686,
   "id": "efa25a6e",
   "metadata": {},
   "outputs": [
    {
     "data": {
      "text/plain": [
       "9"
      ]
     },
     "execution_count": 686,
     "metadata": {},
     "output_type": "execute_result"
    }
   ],
   "source": [
    "df['category'].nunique()"
   ]
  },
  {
   "cell_type": "code",
   "execution_count": 687,
   "id": "0284c78c",
   "metadata": {},
   "outputs": [],
   "source": [
    "top_cat_region = df.groupby(['category', 'region']).agg({'quantity_purchased' : 'sum'}).nlargest(1, 'quantity_purchased').reset_index()"
   ]
  },
  {
   "cell_type": "code",
   "execution_count": 688,
   "id": "40456c51",
   "metadata": {},
   "outputs": [
    {
     "data": {
      "text/html": [
       "<div>\n",
       "<style scoped>\n",
       "    .dataframe tbody tr th:only-of-type {\n",
       "        vertical-align: middle;\n",
       "    }\n",
       "\n",
       "    .dataframe tbody tr th {\n",
       "        vertical-align: top;\n",
       "    }\n",
       "\n",
       "    .dataframe thead th {\n",
       "        text-align: right;\n",
       "    }\n",
       "</style>\n",
       "<table border=\"1\" class=\"dataframe\">\n",
       "  <thead>\n",
       "    <tr style=\"text-align: right;\">\n",
       "      <th></th>\n",
       "      <th>category</th>\n",
       "      <th>region</th>\n",
       "      <th>quantity_purchased</th>\n",
       "    </tr>\n",
       "  </thead>\n",
       "  <tbody>\n",
       "    <tr>\n",
       "      <th>0</th>\n",
       "      <td>dairy</td>\n",
       "      <td>East Midlands</td>\n",
       "      <td>201870.00</td>\n",
       "    </tr>\n",
       "  </tbody>\n",
       "</table>\n",
       "</div>"
      ],
      "text/plain": [
       "  category         region  quantity_purchased\n",
       "0    dairy  East Midlands           201870.00"
      ]
     },
     "execution_count": 688,
     "metadata": {},
     "output_type": "execute_result"
    }
   ],
   "source": [
    "top_cat_region"
   ]
  },
  {
   "cell_type": "code",
   "execution_count": 689,
   "id": "76de816e",
   "metadata": {},
   "outputs": [],
   "source": [
    "bot_cat_region = df.groupby(['category', 'region']).agg({'quantity_purchased' : 'sum'}).nsmallest(1, 'quantity_purchased').reset_index()"
   ]
  },
  {
   "cell_type": "code",
   "execution_count": 690,
   "id": "1d652bd8",
   "metadata": {},
   "outputs": [
    {
     "data": {
      "text/html": [
       "<div>\n",
       "<style scoped>\n",
       "    .dataframe tbody tr th:only-of-type {\n",
       "        vertical-align: middle;\n",
       "    }\n",
       "\n",
       "    .dataframe tbody tr th {\n",
       "        vertical-align: top;\n",
       "    }\n",
       "\n",
       "    .dataframe thead th {\n",
       "        text-align: right;\n",
       "    }\n",
       "</style>\n",
       "<table border=\"1\" class=\"dataframe\">\n",
       "  <thead>\n",
       "    <tr style=\"text-align: right;\">\n",
       "      <th></th>\n",
       "      <th>category</th>\n",
       "      <th>region</th>\n",
       "      <th>quantity_purchased</th>\n",
       "    </tr>\n",
       "  </thead>\n",
       "  <tbody>\n",
       "    <tr>\n",
       "      <th>0</th>\n",
       "      <td>appliances</td>\n",
       "      <td>East of England</td>\n",
       "      <td>0.00</td>\n",
       "    </tr>\n",
       "  </tbody>\n",
       "</table>\n",
       "</div>"
      ],
      "text/plain": [
       "     category           region  quantity_purchased\n",
       "0  appliances  East of England                0.00"
      ]
     },
     "execution_count": 690,
     "metadata": {},
     "output_type": "execute_result"
    }
   ],
   "source": [
    "bot_cat_region"
   ]
  },
  {
   "cell_type": "code",
   "execution_count": 691,
   "id": "d16339b8",
   "metadata": {},
   "outputs": [],
   "source": [
    "top_products_county = df.groupby(['product', 'county']).agg({'quantity_purchased' : 'sum'}).nlargest(1, 'quantity_purchased').reset_index()"
   ]
  },
  {
   "cell_type": "code",
   "execution_count": 692,
   "id": "80f9d600",
   "metadata": {},
   "outputs": [
    {
     "data": {
      "text/html": [
       "<div>\n",
       "<style scoped>\n",
       "    .dataframe tbody tr th:only-of-type {\n",
       "        vertical-align: middle;\n",
       "    }\n",
       "\n",
       "    .dataframe tbody tr th {\n",
       "        vertical-align: top;\n",
       "    }\n",
       "\n",
       "    .dataframe thead th {\n",
       "        text-align: right;\n",
       "    }\n",
       "</style>\n",
       "<table border=\"1\" class=\"dataframe\">\n",
       "  <thead>\n",
       "    <tr style=\"text-align: right;\">\n",
       "      <th></th>\n",
       "      <th>product</th>\n",
       "      <th>county</th>\n",
       "      <th>quantity_purchased</th>\n",
       "    </tr>\n",
       "  </thead>\n",
       "  <tbody>\n",
       "    <tr>\n",
       "      <th>0</th>\n",
       "      <td>organic soured cream</td>\n",
       "      <td>Bassetlaw</td>\n",
       "      <td>14754.00</td>\n",
       "    </tr>\n",
       "  </tbody>\n",
       "</table>\n",
       "</div>"
      ],
      "text/plain": [
       "                product     county  quantity_purchased\n",
       "0  organic soured cream  Bassetlaw            14754.00"
      ]
     },
     "execution_count": 692,
     "metadata": {},
     "output_type": "execute_result"
    }
   ],
   "source": [
    "top_products_county"
   ]
  },
  {
   "cell_type": "code",
   "execution_count": 693,
   "id": "cf3c87bf",
   "metadata": {},
   "outputs": [],
   "source": [
    "bot_products_county = df.groupby(['product', 'county']).agg({'quantity_purchased' : 'sum'}).nsmallest(1, 'quantity_purchased').reset_index()"
   ]
  },
  {
   "cell_type": "code",
   "execution_count": 694,
   "id": "5d2d6b6a",
   "metadata": {},
   "outputs": [
    {
     "data": {
      "text/html": [
       "<div>\n",
       "<style scoped>\n",
       "    .dataframe tbody tr th:only-of-type {\n",
       "        vertical-align: middle;\n",
       "    }\n",
       "\n",
       "    .dataframe tbody tr th {\n",
       "        vertical-align: top;\n",
       "    }\n",
       "\n",
       "    .dataframe thead th {\n",
       "        text-align: right;\n",
       "    }\n",
       "</style>\n",
       "<table border=\"1\" class=\"dataframe\">\n",
       "  <thead>\n",
       "    <tr style=\"text-align: right;\">\n",
       "      <th></th>\n",
       "      <th>product</th>\n",
       "      <th>county</th>\n",
       "      <th>quantity_purchased</th>\n",
       "    </tr>\n",
       "  </thead>\n",
       "  <tbody>\n",
       "    <tr>\n",
       "      <th>0</th>\n",
       "      <td>21 day mature ribeye steak</td>\n",
       "      <td>Castle Point</td>\n",
       "      <td>0.00</td>\n",
       "    </tr>\n",
       "  </tbody>\n",
       "</table>\n",
       "</div>"
      ],
      "text/plain": [
       "                      product        county  quantity_purchased\n",
       "0  21 day mature ribeye steak  Castle Point                0.00"
      ]
     },
     "execution_count": 694,
     "metadata": {},
     "output_type": "execute_result"
    }
   ],
   "source": [
    "bot_products_county"
   ]
  },
  {
   "cell_type": "code",
   "execution_count": 695,
   "id": "b86de650",
   "metadata": {},
   "outputs": [],
   "source": [
    "top_cat_county = df.groupby(['category', 'county']).agg({'quantity_purchased' : 'sum'}).nlargest(1, 'quantity_purchased').reset_index()"
   ]
  },
  {
   "cell_type": "code",
   "execution_count": 696,
   "id": "d0bfe28c",
   "metadata": {},
   "outputs": [
    {
     "data": {
      "text/html": [
       "<div>\n",
       "<style scoped>\n",
       "    .dataframe tbody tr th:only-of-type {\n",
       "        vertical-align: middle;\n",
       "    }\n",
       "\n",
       "    .dataframe tbody tr th {\n",
       "        vertical-align: top;\n",
       "    }\n",
       "\n",
       "    .dataframe thead th {\n",
       "        text-align: right;\n",
       "    }\n",
       "</style>\n",
       "<table border=\"1\" class=\"dataframe\">\n",
       "  <thead>\n",
       "    <tr style=\"text-align: right;\">\n",
       "      <th></th>\n",
       "      <th>category</th>\n",
       "      <th>county</th>\n",
       "      <th>quantity_purchased</th>\n",
       "    </tr>\n",
       "  </thead>\n",
       "  <tbody>\n",
       "    <tr>\n",
       "      <th>0</th>\n",
       "      <td>dairy</td>\n",
       "      <td>Bassetlaw</td>\n",
       "      <td>201870.00</td>\n",
       "    </tr>\n",
       "  </tbody>\n",
       "</table>\n",
       "</div>"
      ],
      "text/plain": [
       "  category     county  quantity_purchased\n",
       "0    dairy  Bassetlaw           201870.00"
      ]
     },
     "execution_count": 696,
     "metadata": {},
     "output_type": "execute_result"
    }
   ],
   "source": [
    "top_cat_county"
   ]
  },
  {
   "cell_type": "code",
   "execution_count": 697,
   "id": "0c7aac69",
   "metadata": {},
   "outputs": [],
   "source": [
    "bot_cat_county = df.groupby(['category', 'county']).agg({'quantity_purchased' : 'sum'}).nsmallest(1, 'quantity_purchased').reset_index()"
   ]
  },
  {
   "cell_type": "code",
   "execution_count": 698,
   "id": "8a2521cc",
   "metadata": {},
   "outputs": [
    {
     "data": {
      "text/html": [
       "<div>\n",
       "<style scoped>\n",
       "    .dataframe tbody tr th:only-of-type {\n",
       "        vertical-align: middle;\n",
       "    }\n",
       "\n",
       "    .dataframe tbody tr th {\n",
       "        vertical-align: top;\n",
       "    }\n",
       "\n",
       "    .dataframe thead th {\n",
       "        text-align: right;\n",
       "    }\n",
       "</style>\n",
       "<table border=\"1\" class=\"dataframe\">\n",
       "  <thead>\n",
       "    <tr style=\"text-align: right;\">\n",
       "      <th></th>\n",
       "      <th>category</th>\n",
       "      <th>county</th>\n",
       "      <th>quantity_purchased</th>\n",
       "    </tr>\n",
       "  </thead>\n",
       "  <tbody>\n",
       "    <tr>\n",
       "      <th>0</th>\n",
       "      <td>appliances</td>\n",
       "      <td>Castle Point</td>\n",
       "      <td>0.00</td>\n",
       "    </tr>\n",
       "  </tbody>\n",
       "</table>\n",
       "</div>"
      ],
      "text/plain": [
       "     category        county  quantity_purchased\n",
       "0  appliances  Castle Point                0.00"
      ]
     },
     "execution_count": 698,
     "metadata": {},
     "output_type": "execute_result"
    }
   ],
   "source": [
    "bot_cat_county"
   ]
  },
  {
   "cell_type": "code",
   "execution_count": 699,
   "id": "c3e62333",
   "metadata": {},
   "outputs": [
    {
     "data": {
      "text/plain": [
       "3"
      ]
     },
     "execution_count": 699,
     "metadata": {},
     "output_type": "execute_result"
    }
   ],
   "source": [
    "df['branch_name'].nunique()"
   ]
  },
  {
   "cell_type": "code",
   "execution_count": 700,
   "id": "e38599a1",
   "metadata": {},
   "outputs": [],
   "source": [
    "df['value'] = df['quantity_purchased'] * df['price']"
   ]
  },
  {
   "cell_type": "code",
   "execution_count": 701,
   "id": "2c963559",
   "metadata": {},
   "outputs": [
    {
     "data": {
      "text/html": [
       "<div>\n",
       "<style scoped>\n",
       "    .dataframe tbody tr th:only-of-type {\n",
       "        vertical-align: middle;\n",
       "    }\n",
       "\n",
       "    .dataframe tbody tr th {\n",
       "        vertical-align: top;\n",
       "    }\n",
       "\n",
       "    .dataframe thead th {\n",
       "        text-align: right;\n",
       "    }\n",
       "</style>\n",
       "<table border=\"1\" class=\"dataframe\">\n",
       "  <thead>\n",
       "    <tr style=\"text-align: right;\">\n",
       "      <th></th>\n",
       "      <th>year</th>\n",
       "      <th>month</th>\n",
       "      <th>day</th>\n",
       "      <th>hour</th>\n",
       "      <th>quantity_purchased</th>\n",
       "      <th>amount_in_gbp</th>\n",
       "      <th>branch_name</th>\n",
       "      <th>product</th>\n",
       "      <th>region</th>\n",
       "      <th>county</th>\n",
       "      <th>established_on</th>\n",
       "      <th>operational_cost</th>\n",
       "      <th>staff_bonuses</th>\n",
       "      <th>misc_expenses</th>\n",
       "      <th>waste_cost</th>\n",
       "      <th>manufactuter</th>\n",
       "      <th>category</th>\n",
       "      <th>price</th>\n",
       "      <th>value</th>\n",
       "    </tr>\n",
       "  </thead>\n",
       "  <tbody>\n",
       "    <tr>\n",
       "      <th>0</th>\n",
       "      <td>2010</td>\n",
       "      <td>1</td>\n",
       "      <td>9</td>\n",
       "      <td>0</td>\n",
       "      <td>182.00</td>\n",
       "      <td>145.60</td>\n",
       "      <td>Bassetlaw outlet</td>\n",
       "      <td>chocolate twist</td>\n",
       "      <td>East Midlands</td>\n",
       "      <td>Bassetlaw</td>\n",
       "      <td>2010</td>\n",
       "      <td>2838</td>\n",
       "      <td>296</td>\n",
       "      <td>9455</td>\n",
       "      <td>6366</td>\n",
       "      <td>in-house</td>\n",
       "      <td>bakery</td>\n",
       "      <td>1.00</td>\n",
       "      <td>182.00</td>\n",
       "    </tr>\n",
       "    <tr>\n",
       "      <th>1</th>\n",
       "      <td>2010</td>\n",
       "      <td>1</td>\n",
       "      <td>9</td>\n",
       "      <td>0</td>\n",
       "      <td>98.00</td>\n",
       "      <td>313.60</td>\n",
       "      <td>Bassetlaw outlet</td>\n",
       "      <td>plastic sunshades</td>\n",
       "      <td>East Midlands</td>\n",
       "      <td>Bassetlaw</td>\n",
       "      <td>2010</td>\n",
       "      <td>2838</td>\n",
       "      <td>296</td>\n",
       "      <td>9455</td>\n",
       "      <td>6366</td>\n",
       "      <td>in-house</td>\n",
       "      <td>clothing</td>\n",
       "      <td>4.00</td>\n",
       "      <td>392.00</td>\n",
       "    </tr>\n",
       "  </tbody>\n",
       "</table>\n",
       "</div>"
      ],
      "text/plain": [
       "   year  month  day  hour  quantity_purchased  amount_in_gbp  \\\n",
       "0  2010      1    9     0              182.00         145.60   \n",
       "1  2010      1    9     0               98.00         313.60   \n",
       "\n",
       "        branch_name            product         region     county  \\\n",
       "0  Bassetlaw outlet    chocolate twist  East Midlands  Bassetlaw   \n",
       "1  Bassetlaw outlet  plastic sunshades  East Midlands  Bassetlaw   \n",
       "\n",
       "   established_on  operational_cost  staff_bonuses  misc_expenses  waste_cost  \\\n",
       "0            2010              2838            296           9455        6366   \n",
       "1            2010              2838            296           9455        6366   \n",
       "\n",
       "  manufactuter  category  price  value  \n",
       "0     in-house    bakery   1.00 182.00  \n",
       "1     in-house  clothing   4.00 392.00  "
      ]
     },
     "execution_count": 701,
     "metadata": {},
     "output_type": "execute_result"
    }
   ],
   "source": [
    "df.head(2)"
   ]
  },
  {
   "cell_type": "code",
   "execution_count": 702,
   "id": "4101230b",
   "metadata": {},
   "outputs": [],
   "source": [
    "df['Datetime'] = pd.to_datetime(df[['year', 'month', 'day', 'hour']])"
   ]
  },
  {
   "cell_type": "code",
   "execution_count": 703,
   "id": "79cdbc28",
   "metadata": {},
   "outputs": [
    {
     "data": {
      "text/html": [
       "<div>\n",
       "<style scoped>\n",
       "    .dataframe tbody tr th:only-of-type {\n",
       "        vertical-align: middle;\n",
       "    }\n",
       "\n",
       "    .dataframe tbody tr th {\n",
       "        vertical-align: top;\n",
       "    }\n",
       "\n",
       "    .dataframe thead th {\n",
       "        text-align: right;\n",
       "    }\n",
       "</style>\n",
       "<table border=\"1\" class=\"dataframe\">\n",
       "  <thead>\n",
       "    <tr style=\"text-align: right;\">\n",
       "      <th></th>\n",
       "      <th>year</th>\n",
       "      <th>month</th>\n",
       "      <th>day</th>\n",
       "      <th>hour</th>\n",
       "      <th>quantity_purchased</th>\n",
       "      <th>amount_in_gbp</th>\n",
       "      <th>branch_name</th>\n",
       "      <th>product</th>\n",
       "      <th>region</th>\n",
       "      <th>county</th>\n",
       "      <th>established_on</th>\n",
       "      <th>operational_cost</th>\n",
       "      <th>staff_bonuses</th>\n",
       "      <th>misc_expenses</th>\n",
       "      <th>waste_cost</th>\n",
       "      <th>manufactuter</th>\n",
       "      <th>category</th>\n",
       "      <th>price</th>\n",
       "      <th>value</th>\n",
       "      <th>Date</th>\n",
       "    </tr>\n",
       "  </thead>\n",
       "  <tbody>\n",
       "    <tr>\n",
       "      <th>0</th>\n",
       "      <td>2010</td>\n",
       "      <td>1</td>\n",
       "      <td>9</td>\n",
       "      <td>0</td>\n",
       "      <td>182.00</td>\n",
       "      <td>145.60</td>\n",
       "      <td>Bassetlaw outlet</td>\n",
       "      <td>chocolate twist</td>\n",
       "      <td>East Midlands</td>\n",
       "      <td>Bassetlaw</td>\n",
       "      <td>2010</td>\n",
       "      <td>2838</td>\n",
       "      <td>296</td>\n",
       "      <td>9455</td>\n",
       "      <td>6366</td>\n",
       "      <td>in-house</td>\n",
       "      <td>bakery</td>\n",
       "      <td>1.00</td>\n",
       "      <td>182.00</td>\n",
       "      <td>2010-01-09 00:00:00</td>\n",
       "    </tr>\n",
       "    <tr>\n",
       "      <th>1</th>\n",
       "      <td>2010</td>\n",
       "      <td>1</td>\n",
       "      <td>9</td>\n",
       "      <td>0</td>\n",
       "      <td>98.00</td>\n",
       "      <td>313.60</td>\n",
       "      <td>Bassetlaw outlet</td>\n",
       "      <td>plastic sunshades</td>\n",
       "      <td>East Midlands</td>\n",
       "      <td>Bassetlaw</td>\n",
       "      <td>2010</td>\n",
       "      <td>2838</td>\n",
       "      <td>296</td>\n",
       "      <td>9455</td>\n",
       "      <td>6366</td>\n",
       "      <td>in-house</td>\n",
       "      <td>clothing</td>\n",
       "      <td>4.00</td>\n",
       "      <td>392.00</td>\n",
       "      <td>2010-01-09 00:00:00</td>\n",
       "    </tr>\n",
       "    <tr>\n",
       "      <th>2</th>\n",
       "      <td>2010</td>\n",
       "      <td>1</td>\n",
       "      <td>9</td>\n",
       "      <td>0</td>\n",
       "      <td>151.00</td>\n",
       "      <td>12080.00</td>\n",
       "      <td>Bassetlaw outlet</td>\n",
       "      <td>lg washing machine</td>\n",
       "      <td>East Midlands</td>\n",
       "      <td>Bassetlaw</td>\n",
       "      <td>2010</td>\n",
       "      <td>2838</td>\n",
       "      <td>296</td>\n",
       "      <td>9455</td>\n",
       "      <td>6366</td>\n",
       "      <td>lg</td>\n",
       "      <td>appliances</td>\n",
       "      <td>100.00</td>\n",
       "      <td>15100.00</td>\n",
       "      <td>2010-01-09 00:00:00</td>\n",
       "    </tr>\n",
       "    <tr>\n",
       "      <th>3</th>\n",
       "      <td>2010</td>\n",
       "      <td>1</td>\n",
       "      <td>9</td>\n",
       "      <td>0</td>\n",
       "      <td>230.00</td>\n",
       "      <td>257.60</td>\n",
       "      <td>Bassetlaw outlet</td>\n",
       "      <td>fresh whole chicken</td>\n",
       "      <td>East Midlands</td>\n",
       "      <td>Bassetlaw</td>\n",
       "      <td>2010</td>\n",
       "      <td>2838</td>\n",
       "      <td>296</td>\n",
       "      <td>9455</td>\n",
       "      <td>6366</td>\n",
       "      <td>farmer jack</td>\n",
       "      <td>meat &amp; fish</td>\n",
       "      <td>1.40</td>\n",
       "      <td>322.00</td>\n",
       "      <td>2010-01-09 00:00:00</td>\n",
       "    </tr>\n",
       "    <tr>\n",
       "      <th>4</th>\n",
       "      <td>2010</td>\n",
       "      <td>1</td>\n",
       "      <td>9</td>\n",
       "      <td>0</td>\n",
       "      <td>150.00</td>\n",
       "      <td>180.00</td>\n",
       "      <td>Bassetlaw outlet</td>\n",
       "      <td>free range large eggs x12</td>\n",
       "      <td>East Midlands</td>\n",
       "      <td>Bassetlaw</td>\n",
       "      <td>2010</td>\n",
       "      <td>2838</td>\n",
       "      <td>296</td>\n",
       "      <td>9455</td>\n",
       "      <td>6366</td>\n",
       "      <td>sam and catherine</td>\n",
       "      <td>dairy</td>\n",
       "      <td>1.50</td>\n",
       "      <td>225.00</td>\n",
       "      <td>2010-01-09 00:00:00</td>\n",
       "    </tr>\n",
       "    <tr>\n",
       "      <th>...</th>\n",
       "      <td>...</td>\n",
       "      <td>...</td>\n",
       "      <td>...</td>\n",
       "      <td>...</td>\n",
       "      <td>...</td>\n",
       "      <td>...</td>\n",
       "      <td>...</td>\n",
       "      <td>...</td>\n",
       "      <td>...</td>\n",
       "      <td>...</td>\n",
       "      <td>...</td>\n",
       "      <td>...</td>\n",
       "      <td>...</td>\n",
       "      <td>...</td>\n",
       "      <td>...</td>\n",
       "      <td>...</td>\n",
       "      <td>...</td>\n",
       "      <td>...</td>\n",
       "      <td>...</td>\n",
       "      <td>...</td>\n",
       "    </tr>\n",
       "    <tr>\n",
       "      <th>29995</th>\n",
       "      <td>2010</td>\n",
       "      <td>1</td>\n",
       "      <td>4</td>\n",
       "      <td>20</td>\n",
       "      <td>61.00</td>\n",
       "      <td>48.80</td>\n",
       "      <td>Cheshire East outlet</td>\n",
       "      <td>Slightly salted butter</td>\n",
       "      <td>North West England</td>\n",
       "      <td>Cheshire East</td>\n",
       "      <td>2010</td>\n",
       "      <td>2926</td>\n",
       "      <td>277</td>\n",
       "      <td>8529</td>\n",
       "      <td>5309</td>\n",
       "      <td>sam and catherine</td>\n",
       "      <td>dairy</td>\n",
       "      <td>1.00</td>\n",
       "      <td>61.00</td>\n",
       "      <td>2010-01-04 20:00:00</td>\n",
       "    </tr>\n",
       "    <tr>\n",
       "      <th>29996</th>\n",
       "      <td>2010</td>\n",
       "      <td>1</td>\n",
       "      <td>4</td>\n",
       "      <td>20</td>\n",
       "      <td>231.00</td>\n",
       "      <td>110.88</td>\n",
       "      <td>Cheshire East outlet</td>\n",
       "      <td>pain au chocolate</td>\n",
       "      <td>North West England</td>\n",
       "      <td>Cheshire East</td>\n",
       "      <td>2010</td>\n",
       "      <td>2926</td>\n",
       "      <td>277</td>\n",
       "      <td>8529</td>\n",
       "      <td>5309</td>\n",
       "      <td>in-house</td>\n",
       "      <td>bakery</td>\n",
       "      <td>0.60</td>\n",
       "      <td>138.60</td>\n",
       "      <td>2010-01-04 20:00:00</td>\n",
       "    </tr>\n",
       "    <tr>\n",
       "      <th>29997</th>\n",
       "      <td>2010</td>\n",
       "      <td>1</td>\n",
       "      <td>4</td>\n",
       "      <td>20</td>\n",
       "      <td>102.00</td>\n",
       "      <td>244.80</td>\n",
       "      <td>Cheshire East outlet</td>\n",
       "      <td>diced chicken breast</td>\n",
       "      <td>North West England</td>\n",
       "      <td>Cheshire East</td>\n",
       "      <td>2010</td>\n",
       "      <td>2926</td>\n",
       "      <td>277</td>\n",
       "      <td>8529</td>\n",
       "      <td>5309</td>\n",
       "      <td>farmer jack</td>\n",
       "      <td>meat &amp; fish</td>\n",
       "      <td>3.00</td>\n",
       "      <td>306.00</td>\n",
       "      <td>2010-01-04 20:00:00</td>\n",
       "    </tr>\n",
       "    <tr>\n",
       "      <th>29998</th>\n",
       "      <td>2010</td>\n",
       "      <td>1</td>\n",
       "      <td>4</td>\n",
       "      <td>20</td>\n",
       "      <td>22.00</td>\n",
       "      <td>35.20</td>\n",
       "      <td>Cheshire East outlet</td>\n",
       "      <td>millionaire square</td>\n",
       "      <td>North West England</td>\n",
       "      <td>Cheshire East</td>\n",
       "      <td>2010</td>\n",
       "      <td>2926</td>\n",
       "      <td>277</td>\n",
       "      <td>8529</td>\n",
       "      <td>5309</td>\n",
       "      <td>in-house</td>\n",
       "      <td>bakery</td>\n",
       "      <td>2.00</td>\n",
       "      <td>44.00</td>\n",
       "      <td>2010-01-04 20:00:00</td>\n",
       "    </tr>\n",
       "    <tr>\n",
       "      <th>29999</th>\n",
       "      <td>2010</td>\n",
       "      <td>1</td>\n",
       "      <td>4</td>\n",
       "      <td>20</td>\n",
       "      <td>207.00</td>\n",
       "      <td>291.46</td>\n",
       "      <td>Cheshire East outlet</td>\n",
       "      <td>british bramley cooking apples</td>\n",
       "      <td>North West England</td>\n",
       "      <td>Cheshire East</td>\n",
       "      <td>2010</td>\n",
       "      <td>2926</td>\n",
       "      <td>277</td>\n",
       "      <td>8529</td>\n",
       "      <td>5309</td>\n",
       "      <td>sainsburys</td>\n",
       "      <td>fruits &amp; vegetables</td>\n",
       "      <td>1.76</td>\n",
       "      <td>364.32</td>\n",
       "      <td>2010-01-04 20:00:00</td>\n",
       "    </tr>\n",
       "  </tbody>\n",
       "</table>\n",
       "<p>30000 rows × 20 columns</p>\n",
       "</div>"
      ],
      "text/plain": [
       "       year  month  day  hour  quantity_purchased  amount_in_gbp  \\\n",
       "0      2010      1    9     0              182.00         145.60   \n",
       "1      2010      1    9     0               98.00         313.60   \n",
       "2      2010      1    9     0              151.00       12080.00   \n",
       "3      2010      1    9     0              230.00         257.60   \n",
       "4      2010      1    9     0              150.00         180.00   \n",
       "...     ...    ...  ...   ...                 ...            ...   \n",
       "29995  2010      1    4    20               61.00          48.80   \n",
       "29996  2010      1    4    20              231.00         110.88   \n",
       "29997  2010      1    4    20              102.00         244.80   \n",
       "29998  2010      1    4    20               22.00          35.20   \n",
       "29999  2010      1    4    20              207.00         291.46   \n",
       "\n",
       "                branch_name                         product  \\\n",
       "0          Bassetlaw outlet                 chocolate twist   \n",
       "1          Bassetlaw outlet               plastic sunshades   \n",
       "2          Bassetlaw outlet              lg washing machine   \n",
       "3          Bassetlaw outlet             fresh whole chicken   \n",
       "4          Bassetlaw outlet       free range large eggs x12   \n",
       "...                     ...                             ...   \n",
       "29995  Cheshire East outlet          Slightly salted butter   \n",
       "29996  Cheshire East outlet               pain au chocolate   \n",
       "29997  Cheshire East outlet            diced chicken breast   \n",
       "29998  Cheshire East outlet              millionaire square   \n",
       "29999  Cheshire East outlet  british bramley cooking apples   \n",
       "\n",
       "                   region         county  established_on  operational_cost  \\\n",
       "0           East Midlands      Bassetlaw            2010              2838   \n",
       "1           East Midlands      Bassetlaw            2010              2838   \n",
       "2           East Midlands      Bassetlaw            2010              2838   \n",
       "3           East Midlands      Bassetlaw            2010              2838   \n",
       "4           East Midlands      Bassetlaw            2010              2838   \n",
       "...                   ...            ...             ...               ...   \n",
       "29995  North West England  Cheshire East            2010              2926   \n",
       "29996  North West England  Cheshire East            2010              2926   \n",
       "29997  North West England  Cheshire East            2010              2926   \n",
       "29998  North West England  Cheshire East            2010              2926   \n",
       "29999  North West England  Cheshire East            2010              2926   \n",
       "\n",
       "       staff_bonuses  misc_expenses  waste_cost       manufactuter  \\\n",
       "0                296           9455        6366           in-house   \n",
       "1                296           9455        6366           in-house   \n",
       "2                296           9455        6366                 lg   \n",
       "3                296           9455        6366        farmer jack   \n",
       "4                296           9455        6366  sam and catherine   \n",
       "...              ...            ...         ...                ...   \n",
       "29995            277           8529        5309  sam and catherine   \n",
       "29996            277           8529        5309           in-house   \n",
       "29997            277           8529        5309        farmer jack   \n",
       "29998            277           8529        5309           in-house   \n",
       "29999            277           8529        5309         sainsburys   \n",
       "\n",
       "                  category  price    value                Date  \n",
       "0                   bakery   1.00   182.00 2010-01-09 00:00:00  \n",
       "1                 clothing   4.00   392.00 2010-01-09 00:00:00  \n",
       "2               appliances 100.00 15100.00 2010-01-09 00:00:00  \n",
       "3              meat & fish   1.40   322.00 2010-01-09 00:00:00  \n",
       "4                    dairy   1.50   225.00 2010-01-09 00:00:00  \n",
       "...                    ...    ...      ...                 ...  \n",
       "29995                dairy   1.00    61.00 2010-01-04 20:00:00  \n",
       "29996               bakery   0.60   138.60 2010-01-04 20:00:00  \n",
       "29997          meat & fish   3.00   306.00 2010-01-04 20:00:00  \n",
       "29998               bakery   2.00    44.00 2010-01-04 20:00:00  \n",
       "29999  fruits & vegetables   1.76   364.32 2010-01-04 20:00:00  \n",
       "\n",
       "[30000 rows x 20 columns]"
      ]
     },
     "execution_count": 703,
     "metadata": {},
     "output_type": "execute_result"
    }
   ],
   "source": [
    "df"
   ]
  },
  {
   "cell_type": "code",
   "execution_count": 704,
   "id": "ab349dce",
   "metadata": {},
   "outputs": [],
   "source": [
    "top_branches_overall = df.groupby('branch_name').agg({'value' : 'sum'}).nlargest(2, 'value').reset_index()"
   ]
  },
  {
   "cell_type": "code",
   "execution_count": 705,
   "id": "4fdd78c9",
   "metadata": {},
   "outputs": [
    {
     "data": {
      "text/html": [
       "<div>\n",
       "<style scoped>\n",
       "    .dataframe tbody tr th:only-of-type {\n",
       "        vertical-align: middle;\n",
       "    }\n",
       "\n",
       "    .dataframe tbody tr th {\n",
       "        vertical-align: top;\n",
       "    }\n",
       "\n",
       "    .dataframe thead th {\n",
       "        text-align: right;\n",
       "    }\n",
       "</style>\n",
       "<table border=\"1\" class=\"dataframe\">\n",
       "  <thead>\n",
       "    <tr style=\"text-align: right;\">\n",
       "      <th></th>\n",
       "      <th>branch_name</th>\n",
       "      <th>value</th>\n",
       "    </tr>\n",
       "  </thead>\n",
       "  <tbody>\n",
       "    <tr>\n",
       "      <th>0</th>\n",
       "      <td>Bassetlaw outlet</td>\n",
       "      <td>136911278.06</td>\n",
       "    </tr>\n",
       "    <tr>\n",
       "      <th>1</th>\n",
       "      <td>Cheshire East outlet</td>\n",
       "      <td>132027270.54</td>\n",
       "    </tr>\n",
       "  </tbody>\n",
       "</table>\n",
       "</div>"
      ],
      "text/plain": [
       "            branch_name        value\n",
       "0      Bassetlaw outlet 136911278.06\n",
       "1  Cheshire East outlet 132027270.54"
      ]
     },
     "execution_count": 705,
     "metadata": {},
     "output_type": "execute_result"
    }
   ],
   "source": [
    "top_branches_overall"
   ]
  },
  {
   "cell_type": "code",
   "execution_count": 706,
   "id": "1eada2f3",
   "metadata": {},
   "outputs": [],
   "source": [
    "hourly_data = df[['branch_name', 'value', 'Date']]"
   ]
  },
  {
   "cell_type": "code",
   "execution_count": 707,
   "id": "0d547abc",
   "metadata": {},
   "outputs": [
    {
     "data": {
      "text/html": [
       "<div>\n",
       "<style scoped>\n",
       "    .dataframe tbody tr th:only-of-type {\n",
       "        vertical-align: middle;\n",
       "    }\n",
       "\n",
       "    .dataframe tbody tr th {\n",
       "        vertical-align: top;\n",
       "    }\n",
       "\n",
       "    .dataframe thead th {\n",
       "        text-align: right;\n",
       "    }\n",
       "</style>\n",
       "<table border=\"1\" class=\"dataframe\">\n",
       "  <thead>\n",
       "    <tr style=\"text-align: right;\">\n",
       "      <th></th>\n",
       "      <th>branch_name</th>\n",
       "      <th>value</th>\n",
       "      <th>Date</th>\n",
       "    </tr>\n",
       "  </thead>\n",
       "  <tbody>\n",
       "    <tr>\n",
       "      <th>0</th>\n",
       "      <td>Bassetlaw outlet</td>\n",
       "      <td>182.00</td>\n",
       "      <td>2010-01-09 00:00:00</td>\n",
       "    </tr>\n",
       "    <tr>\n",
       "      <th>1</th>\n",
       "      <td>Bassetlaw outlet</td>\n",
       "      <td>392.00</td>\n",
       "      <td>2010-01-09 00:00:00</td>\n",
       "    </tr>\n",
       "    <tr>\n",
       "      <th>2</th>\n",
       "      <td>Bassetlaw outlet</td>\n",
       "      <td>15100.00</td>\n",
       "      <td>2010-01-09 00:00:00</td>\n",
       "    </tr>\n",
       "    <tr>\n",
       "      <th>3</th>\n",
       "      <td>Bassetlaw outlet</td>\n",
       "      <td>322.00</td>\n",
       "      <td>2010-01-09 00:00:00</td>\n",
       "    </tr>\n",
       "    <tr>\n",
       "      <th>4</th>\n",
       "      <td>Bassetlaw outlet</td>\n",
       "      <td>225.00</td>\n",
       "      <td>2010-01-09 00:00:00</td>\n",
       "    </tr>\n",
       "    <tr>\n",
       "      <th>...</th>\n",
       "      <td>...</td>\n",
       "      <td>...</td>\n",
       "      <td>...</td>\n",
       "    </tr>\n",
       "    <tr>\n",
       "      <th>29995</th>\n",
       "      <td>Cheshire East outlet</td>\n",
       "      <td>61.00</td>\n",
       "      <td>2010-01-04 20:00:00</td>\n",
       "    </tr>\n",
       "    <tr>\n",
       "      <th>29996</th>\n",
       "      <td>Cheshire East outlet</td>\n",
       "      <td>138.60</td>\n",
       "      <td>2010-01-04 20:00:00</td>\n",
       "    </tr>\n",
       "    <tr>\n",
       "      <th>29997</th>\n",
       "      <td>Cheshire East outlet</td>\n",
       "      <td>306.00</td>\n",
       "      <td>2010-01-04 20:00:00</td>\n",
       "    </tr>\n",
       "    <tr>\n",
       "      <th>29998</th>\n",
       "      <td>Cheshire East outlet</td>\n",
       "      <td>44.00</td>\n",
       "      <td>2010-01-04 20:00:00</td>\n",
       "    </tr>\n",
       "    <tr>\n",
       "      <th>29999</th>\n",
       "      <td>Cheshire East outlet</td>\n",
       "      <td>364.32</td>\n",
       "      <td>2010-01-04 20:00:00</td>\n",
       "    </tr>\n",
       "  </tbody>\n",
       "</table>\n",
       "<p>30000 rows × 3 columns</p>\n",
       "</div>"
      ],
      "text/plain": [
       "                branch_name    value                Date\n",
       "0          Bassetlaw outlet   182.00 2010-01-09 00:00:00\n",
       "1          Bassetlaw outlet   392.00 2010-01-09 00:00:00\n",
       "2          Bassetlaw outlet 15100.00 2010-01-09 00:00:00\n",
       "3          Bassetlaw outlet   322.00 2010-01-09 00:00:00\n",
       "4          Bassetlaw outlet   225.00 2010-01-09 00:00:00\n",
       "...                     ...      ...                 ...\n",
       "29995  Cheshire East outlet    61.00 2010-01-04 20:00:00\n",
       "29996  Cheshire East outlet   138.60 2010-01-04 20:00:00\n",
       "29997  Cheshire East outlet   306.00 2010-01-04 20:00:00\n",
       "29998  Cheshire East outlet    44.00 2010-01-04 20:00:00\n",
       "29999  Cheshire East outlet   364.32 2010-01-04 20:00:00\n",
       "\n",
       "[30000 rows x 3 columns]"
      ]
     },
     "execution_count": 707,
     "metadata": {},
     "output_type": "execute_result"
    }
   ],
   "source": [
    "hourly_data"
   ]
  },
  {
   "cell_type": "code",
   "execution_count": 737,
   "id": "30d1401e",
   "metadata": {},
   "outputs": [
    {
     "data": {
      "text/plain": [
       "Date\n",
       "2010-01-01 10:00:00    0\n",
       "2010-01-01 11:00:00    0\n",
       "2010-01-01 12:00:00    0\n",
       "2010-01-01 13:00:00    0\n",
       "2010-01-01 14:00:00    0\n",
       "                      ..\n",
       "2010-02-24 21:00:00    0\n",
       "2010-02-24 22:00:00    0\n",
       "2010-02-24 23:00:00    0\n",
       "2010-02-25 00:00:00    0\n",
       "2010-02-25 01:00:00    0\n",
       "Freq: H, Name: value, Length: 1312, dtype: int64"
      ]
     },
     "execution_count": 737,
     "metadata": {},
     "output_type": "execute_result"
    }
   ],
   "source": [
    "hourly_data.groupby(pd.Grouper(freq='H', key='Date')).value.count()"
   ]
  },
  {
   "cell_type": "code",
   "execution_count": null,
   "id": "bb740b29",
   "metadata": {},
   "outputs": [],
   "source": []
  },
  {
   "cell_type": "code",
   "execution_count": null,
   "id": "ce55e040",
   "metadata": {},
   "outputs": [],
   "source": []
  },
  {
   "cell_type": "code",
   "execution_count": 709,
   "id": "470a0ad2",
   "metadata": {},
   "outputs": [],
   "source": [
    "bot_branches_overall = df.groupby('branch_name', ).agg({'value' : 'sum'}).nsmallest(1, 'value').reset_index()"
   ]
  },
  {
   "cell_type": "code",
   "execution_count": 710,
   "id": "b200fe58",
   "metadata": {},
   "outputs": [
    {
     "data": {
      "text/html": [
       "<div>\n",
       "<style scoped>\n",
       "    .dataframe tbody tr th:only-of-type {\n",
       "        vertical-align: middle;\n",
       "    }\n",
       "\n",
       "    .dataframe tbody tr th {\n",
       "        vertical-align: top;\n",
       "    }\n",
       "\n",
       "    .dataframe thead th {\n",
       "        text-align: right;\n",
       "    }\n",
       "</style>\n",
       "<table border=\"1\" class=\"dataframe\">\n",
       "  <thead>\n",
       "    <tr style=\"text-align: right;\">\n",
       "      <th></th>\n",
       "      <th>branch_name</th>\n",
       "      <th>value</th>\n",
       "    </tr>\n",
       "  </thead>\n",
       "  <tbody>\n",
       "    <tr>\n",
       "      <th>0</th>\n",
       "      <td>Castle Point outlet</td>\n",
       "      <td>0.00</td>\n",
       "    </tr>\n",
       "  </tbody>\n",
       "</table>\n",
       "</div>"
      ],
      "text/plain": [
       "           branch_name  value\n",
       "0  Castle Point outlet   0.00"
      ]
     },
     "execution_count": 710,
     "metadata": {},
     "output_type": "execute_result"
    }
   ],
   "source": [
    "bot_branches_overall"
   ]
  },
  {
   "cell_type": "code",
   "execution_count": 711,
   "id": "5da7e27e",
   "metadata": {},
   "outputs": [],
   "source": [
    "top_branches_region = df.groupby(['branch_name', 'region']).agg({'value' : 'sum'}).nlargest(1, 'value').reset_index()"
   ]
  },
  {
   "cell_type": "code",
   "execution_count": 712,
   "id": "eafa6339",
   "metadata": {},
   "outputs": [
    {
     "data": {
      "text/html": [
       "<div>\n",
       "<style scoped>\n",
       "    .dataframe tbody tr th:only-of-type {\n",
       "        vertical-align: middle;\n",
       "    }\n",
       "\n",
       "    .dataframe tbody tr th {\n",
       "        vertical-align: top;\n",
       "    }\n",
       "\n",
       "    .dataframe thead th {\n",
       "        text-align: right;\n",
       "    }\n",
       "</style>\n",
       "<table border=\"1\" class=\"dataframe\">\n",
       "  <thead>\n",
       "    <tr style=\"text-align: right;\">\n",
       "      <th></th>\n",
       "      <th>branch_name</th>\n",
       "      <th>region</th>\n",
       "      <th>value</th>\n",
       "    </tr>\n",
       "  </thead>\n",
       "  <tbody>\n",
       "    <tr>\n",
       "      <th>0</th>\n",
       "      <td>Bassetlaw outlet</td>\n",
       "      <td>East Midlands</td>\n",
       "      <td>136911278.06</td>\n",
       "    </tr>\n",
       "  </tbody>\n",
       "</table>\n",
       "</div>"
      ],
      "text/plain": [
       "        branch_name         region        value\n",
       "0  Bassetlaw outlet  East Midlands 136911278.06"
      ]
     },
     "execution_count": 712,
     "metadata": {},
     "output_type": "execute_result"
    }
   ],
   "source": [
    "top_branches_region"
   ]
  },
  {
   "cell_type": "code",
   "execution_count": 713,
   "id": "bc8d8df4",
   "metadata": {},
   "outputs": [],
   "source": [
    "bot_branches_region = df.groupby(['branch_name', 'region']).agg({'value' : 'sum'}).nsmallest(1, 'value').reset_index()"
   ]
  },
  {
   "cell_type": "code",
   "execution_count": 714,
   "id": "1b16c278",
   "metadata": {},
   "outputs": [
    {
     "data": {
      "text/html": [
       "<div>\n",
       "<style scoped>\n",
       "    .dataframe tbody tr th:only-of-type {\n",
       "        vertical-align: middle;\n",
       "    }\n",
       "\n",
       "    .dataframe tbody tr th {\n",
       "        vertical-align: top;\n",
       "    }\n",
       "\n",
       "    .dataframe thead th {\n",
       "        text-align: right;\n",
       "    }\n",
       "</style>\n",
       "<table border=\"1\" class=\"dataframe\">\n",
       "  <thead>\n",
       "    <tr style=\"text-align: right;\">\n",
       "      <th></th>\n",
       "      <th>branch_name</th>\n",
       "      <th>region</th>\n",
       "      <th>value</th>\n",
       "    </tr>\n",
       "  </thead>\n",
       "  <tbody>\n",
       "    <tr>\n",
       "      <th>0</th>\n",
       "      <td>Castle Point outlet</td>\n",
       "      <td>East of England</td>\n",
       "      <td>0.00</td>\n",
       "    </tr>\n",
       "  </tbody>\n",
       "</table>\n",
       "</div>"
      ],
      "text/plain": [
       "           branch_name           region  value\n",
       "0  Castle Point outlet  East of England   0.00"
      ]
     },
     "execution_count": 714,
     "metadata": {},
     "output_type": "execute_result"
    }
   ],
   "source": [
    "bot_branches_region"
   ]
  },
  {
   "cell_type": "code",
   "execution_count": 715,
   "id": "499edeea",
   "metadata": {},
   "outputs": [],
   "source": [
    "top_branches_county = df.groupby(['branch_name', 'county']).agg({'value' : 'sum'}).nlargest(1, 'value').reset_index()"
   ]
  },
  {
   "cell_type": "code",
   "execution_count": 716,
   "id": "a094be22",
   "metadata": {},
   "outputs": [
    {
     "data": {
      "text/html": [
       "<div>\n",
       "<style scoped>\n",
       "    .dataframe tbody tr th:only-of-type {\n",
       "        vertical-align: middle;\n",
       "    }\n",
       "\n",
       "    .dataframe tbody tr th {\n",
       "        vertical-align: top;\n",
       "    }\n",
       "\n",
       "    .dataframe thead th {\n",
       "        text-align: right;\n",
       "    }\n",
       "</style>\n",
       "<table border=\"1\" class=\"dataframe\">\n",
       "  <thead>\n",
       "    <tr style=\"text-align: right;\">\n",
       "      <th></th>\n",
       "      <th>branch_name</th>\n",
       "      <th>county</th>\n",
       "      <th>value</th>\n",
       "    </tr>\n",
       "  </thead>\n",
       "  <tbody>\n",
       "    <tr>\n",
       "      <th>0</th>\n",
       "      <td>Bassetlaw outlet</td>\n",
       "      <td>Bassetlaw</td>\n",
       "      <td>136911278.06</td>\n",
       "    </tr>\n",
       "  </tbody>\n",
       "</table>\n",
       "</div>"
      ],
      "text/plain": [
       "        branch_name     county        value\n",
       "0  Bassetlaw outlet  Bassetlaw 136911278.06"
      ]
     },
     "execution_count": 716,
     "metadata": {},
     "output_type": "execute_result"
    }
   ],
   "source": [
    "top_branches_county"
   ]
  },
  {
   "cell_type": "code",
   "execution_count": 717,
   "id": "63cfb3d1",
   "metadata": {},
   "outputs": [],
   "source": [
    "bot_branches_county = df.groupby(['branch_name', 'county']).agg({'value' : 'sum'}).nsmallest(1, 'value').reset_index()"
   ]
  },
  {
   "cell_type": "code",
   "execution_count": 718,
   "id": "a40e0402",
   "metadata": {},
   "outputs": [
    {
     "data": {
      "text/html": [
       "<div>\n",
       "<style scoped>\n",
       "    .dataframe tbody tr th:only-of-type {\n",
       "        vertical-align: middle;\n",
       "    }\n",
       "\n",
       "    .dataframe tbody tr th {\n",
       "        vertical-align: top;\n",
       "    }\n",
       "\n",
       "    .dataframe thead th {\n",
       "        text-align: right;\n",
       "    }\n",
       "</style>\n",
       "<table border=\"1\" class=\"dataframe\">\n",
       "  <thead>\n",
       "    <tr style=\"text-align: right;\">\n",
       "      <th></th>\n",
       "      <th>branch_name</th>\n",
       "      <th>county</th>\n",
       "      <th>value</th>\n",
       "    </tr>\n",
       "  </thead>\n",
       "  <tbody>\n",
       "    <tr>\n",
       "      <th>0</th>\n",
       "      <td>Castle Point outlet</td>\n",
       "      <td>Castle Point</td>\n",
       "      <td>0.00</td>\n",
       "    </tr>\n",
       "  </tbody>\n",
       "</table>\n",
       "</div>"
      ],
      "text/plain": [
       "           branch_name        county  value\n",
       "0  Castle Point outlet  Castle Point   0.00"
      ]
     },
     "execution_count": 718,
     "metadata": {},
     "output_type": "execute_result"
    }
   ],
   "source": [
    "bot_branches_county"
   ]
  },
  {
   "cell_type": "code",
   "execution_count": 719,
   "id": "ebdd631a",
   "metadata": {},
   "outputs": [],
   "source": [
    "df['quantity_purchased'] = pd.to_numeric(df['quantity_purchased'])"
   ]
  },
  {
   "cell_type": "code",
   "execution_count": 720,
   "id": "5b52a03f",
   "metadata": {},
   "outputs": [
    {
     "data": {
      "text/plain": [
       "year                           int64\n",
       "month                          int64\n",
       "day                            int64\n",
       "hour                           int64\n",
       "quantity_purchased           float64\n",
       "amount_in_gbp                float64\n",
       "branch_name                   object\n",
       "product                       object\n",
       "region                        object\n",
       "county                        object\n",
       "established_on                 int64\n",
       "operational_cost               int64\n",
       "staff_bonuses                  int64\n",
       "misc_expenses                  int64\n",
       "waste_cost                     int64\n",
       "manufactuter                  object\n",
       "category                      object\n",
       "price                        float64\n",
       "value                        float64\n",
       "Date                  datetime64[ns]\n",
       "dtype: object"
      ]
     },
     "execution_count": 720,
     "metadata": {},
     "output_type": "execute_result"
    }
   ],
   "source": [
    "df.dtypes"
   ]
  },
  {
   "cell_type": "code",
   "execution_count": null,
   "id": "5b535469",
   "metadata": {},
   "outputs": [],
   "source": []
  },
  {
   "cell_type": "code",
   "execution_count": 721,
   "id": "9a7b5e1c",
   "metadata": {},
   "outputs": [],
   "source": [
    "df['total_expenses'] = df.apply(lambda row: row.operational_cost + row.staff_bonuses + row.misc_expenses + row.waste_cost, axis=1)"
   ]
  },
  {
   "cell_type": "code",
   "execution_count": 722,
   "id": "4c9e1112",
   "metadata": {},
   "outputs": [
    {
     "data": {
      "text/html": [
       "<div>\n",
       "<style scoped>\n",
       "    .dataframe tbody tr th:only-of-type {\n",
       "        vertical-align: middle;\n",
       "    }\n",
       "\n",
       "    .dataframe tbody tr th {\n",
       "        vertical-align: top;\n",
       "    }\n",
       "\n",
       "    .dataframe thead th {\n",
       "        text-align: right;\n",
       "    }\n",
       "</style>\n",
       "<table border=\"1\" class=\"dataframe\">\n",
       "  <thead>\n",
       "    <tr style=\"text-align: right;\">\n",
       "      <th></th>\n",
       "      <th>year</th>\n",
       "      <th>month</th>\n",
       "      <th>day</th>\n",
       "      <th>hour</th>\n",
       "      <th>quantity_purchased</th>\n",
       "      <th>amount_in_gbp</th>\n",
       "      <th>branch_name</th>\n",
       "      <th>product</th>\n",
       "      <th>region</th>\n",
       "      <th>county</th>\n",
       "      <th>...</th>\n",
       "      <th>operational_cost</th>\n",
       "      <th>staff_bonuses</th>\n",
       "      <th>misc_expenses</th>\n",
       "      <th>waste_cost</th>\n",
       "      <th>manufactuter</th>\n",
       "      <th>category</th>\n",
       "      <th>price</th>\n",
       "      <th>value</th>\n",
       "      <th>Date</th>\n",
       "      <th>total_expenses</th>\n",
       "    </tr>\n",
       "  </thead>\n",
       "  <tbody>\n",
       "    <tr>\n",
       "      <th>0</th>\n",
       "      <td>2010</td>\n",
       "      <td>1</td>\n",
       "      <td>9</td>\n",
       "      <td>0</td>\n",
       "      <td>182.00</td>\n",
       "      <td>145.60</td>\n",
       "      <td>Bassetlaw outlet</td>\n",
       "      <td>chocolate twist</td>\n",
       "      <td>East Midlands</td>\n",
       "      <td>Bassetlaw</td>\n",
       "      <td>...</td>\n",
       "      <td>2838</td>\n",
       "      <td>296</td>\n",
       "      <td>9455</td>\n",
       "      <td>6366</td>\n",
       "      <td>in-house</td>\n",
       "      <td>bakery</td>\n",
       "      <td>1.00</td>\n",
       "      <td>182.00</td>\n",
       "      <td>2010-01-09</td>\n",
       "      <td>18955</td>\n",
       "    </tr>\n",
       "    <tr>\n",
       "      <th>1</th>\n",
       "      <td>2010</td>\n",
       "      <td>1</td>\n",
       "      <td>9</td>\n",
       "      <td>0</td>\n",
       "      <td>98.00</td>\n",
       "      <td>313.60</td>\n",
       "      <td>Bassetlaw outlet</td>\n",
       "      <td>plastic sunshades</td>\n",
       "      <td>East Midlands</td>\n",
       "      <td>Bassetlaw</td>\n",
       "      <td>...</td>\n",
       "      <td>2838</td>\n",
       "      <td>296</td>\n",
       "      <td>9455</td>\n",
       "      <td>6366</td>\n",
       "      <td>in-house</td>\n",
       "      <td>clothing</td>\n",
       "      <td>4.00</td>\n",
       "      <td>392.00</td>\n",
       "      <td>2010-01-09</td>\n",
       "      <td>18955</td>\n",
       "    </tr>\n",
       "  </tbody>\n",
       "</table>\n",
       "<p>2 rows × 21 columns</p>\n",
       "</div>"
      ],
      "text/plain": [
       "   year  month  day  hour  quantity_purchased  amount_in_gbp  \\\n",
       "0  2010      1    9     0              182.00         145.60   \n",
       "1  2010      1    9     0               98.00         313.60   \n",
       "\n",
       "        branch_name            product         region     county  ...  \\\n",
       "0  Bassetlaw outlet    chocolate twist  East Midlands  Bassetlaw  ...   \n",
       "1  Bassetlaw outlet  plastic sunshades  East Midlands  Bassetlaw  ...   \n",
       "\n",
       "   operational_cost  staff_bonuses  misc_expenses  waste_cost  manufactuter  \\\n",
       "0              2838            296           9455        6366      in-house   \n",
       "1              2838            296           9455        6366      in-house   \n",
       "\n",
       "   category price  value       Date total_expenses  \n",
       "0    bakery  1.00 182.00 2010-01-09          18955  \n",
       "1  clothing  4.00 392.00 2010-01-09          18955  \n",
       "\n",
       "[2 rows x 21 columns]"
      ]
     },
     "execution_count": 722,
     "metadata": {},
     "output_type": "execute_result"
    }
   ],
   "source": [
    "df.head(2)"
   ]
  },
  {
   "cell_type": "code",
   "execution_count": 723,
   "id": "dc9eb234",
   "metadata": {},
   "outputs": [],
   "source": [
    "total_expenses = df.groupby('branch_name').head(1)"
   ]
  },
  {
   "cell_type": "code",
   "execution_count": 724,
   "id": "70ca80b1",
   "metadata": {},
   "outputs": [],
   "source": [
    "total_expenses = total_expenses[['branch_name', 'total_expenses']].reset_index().drop(columns=['index'])"
   ]
  },
  {
   "cell_type": "code",
   "execution_count": 725,
   "id": "e5d1d012",
   "metadata": {},
   "outputs": [
    {
     "data": {
      "text/html": [
       "<div>\n",
       "<style scoped>\n",
       "    .dataframe tbody tr th:only-of-type {\n",
       "        vertical-align: middle;\n",
       "    }\n",
       "\n",
       "    .dataframe tbody tr th {\n",
       "        vertical-align: top;\n",
       "    }\n",
       "\n",
       "    .dataframe thead th {\n",
       "        text-align: right;\n",
       "    }\n",
       "</style>\n",
       "<table border=\"1\" class=\"dataframe\">\n",
       "  <thead>\n",
       "    <tr style=\"text-align: right;\">\n",
       "      <th></th>\n",
       "      <th>branch_name</th>\n",
       "      <th>total_expenses</th>\n",
       "    </tr>\n",
       "  </thead>\n",
       "  <tbody>\n",
       "    <tr>\n",
       "      <th>0</th>\n",
       "      <td>Bassetlaw outlet</td>\n",
       "      <td>18955</td>\n",
       "    </tr>\n",
       "    <tr>\n",
       "      <th>1</th>\n",
       "      <td>Castle Point outlet</td>\n",
       "      <td>13851</td>\n",
       "    </tr>\n",
       "    <tr>\n",
       "      <th>2</th>\n",
       "      <td>Cheshire East outlet</td>\n",
       "      <td>17041</td>\n",
       "    </tr>\n",
       "  </tbody>\n",
       "</table>\n",
       "</div>"
      ],
      "text/plain": [
       "            branch_name  total_expenses\n",
       "0      Bassetlaw outlet           18955\n",
       "1   Castle Point outlet           13851\n",
       "2  Cheshire East outlet           17041"
      ]
     },
     "execution_count": 725,
     "metadata": {},
     "output_type": "execute_result"
    }
   ],
   "source": [
    "total_expenses"
   ]
  },
  {
   "cell_type": "code",
   "execution_count": 726,
   "id": "f41699a8",
   "metadata": {},
   "outputs": [],
   "source": [
    "total_sales = df.groupby(['branch_name']).agg({'amount_in_gbp' : 'sum'}).reset_index()"
   ]
  },
  {
   "cell_type": "code",
   "execution_count": 727,
   "id": "225365f0",
   "metadata": {},
   "outputs": [
    {
     "data": {
      "text/html": [
       "<div>\n",
       "<style scoped>\n",
       "    .dataframe tbody tr th:only-of-type {\n",
       "        vertical-align: middle;\n",
       "    }\n",
       "\n",
       "    .dataframe tbody tr th {\n",
       "        vertical-align: top;\n",
       "    }\n",
       "\n",
       "    .dataframe thead th {\n",
       "        text-align: right;\n",
       "    }\n",
       "</style>\n",
       "<table border=\"1\" class=\"dataframe\">\n",
       "  <thead>\n",
       "    <tr style=\"text-align: right;\">\n",
       "      <th></th>\n",
       "      <th>branch_name</th>\n",
       "      <th>amount_in_gbp</th>\n",
       "    </tr>\n",
       "  </thead>\n",
       "  <tbody>\n",
       "    <tr>\n",
       "      <th>0</th>\n",
       "      <td>Bassetlaw outlet</td>\n",
       "      <td>109549480.61</td>\n",
       "    </tr>\n",
       "    <tr>\n",
       "      <th>1</th>\n",
       "      <td>Castle Point outlet</td>\n",
       "      <td>107660501.70</td>\n",
       "    </tr>\n",
       "    <tr>\n",
       "      <th>2</th>\n",
       "      <td>Cheshire East outlet</td>\n",
       "      <td>105653744.11</td>\n",
       "    </tr>\n",
       "  </tbody>\n",
       "</table>\n",
       "</div>"
      ],
      "text/plain": [
       "            branch_name  amount_in_gbp\n",
       "0      Bassetlaw outlet   109549480.61\n",
       "1   Castle Point outlet   107660501.70\n",
       "2  Cheshire East outlet   105653744.11"
      ]
     },
     "execution_count": 727,
     "metadata": {},
     "output_type": "execute_result"
    }
   ],
   "source": [
    "total_sales"
   ]
  },
  {
   "cell_type": "code",
   "execution_count": 728,
   "id": "7c12c12d",
   "metadata": {},
   "outputs": [],
   "source": [
    "df_merged = total_sales.merge(total_expenses, how='left', on='branch_name')"
   ]
  },
  {
   "cell_type": "code",
   "execution_count": 729,
   "id": "903406ca",
   "metadata": {},
   "outputs": [
    {
     "data": {
      "text/html": [
       "<div>\n",
       "<style scoped>\n",
       "    .dataframe tbody tr th:only-of-type {\n",
       "        vertical-align: middle;\n",
       "    }\n",
       "\n",
       "    .dataframe tbody tr th {\n",
       "        vertical-align: top;\n",
       "    }\n",
       "\n",
       "    .dataframe thead th {\n",
       "        text-align: right;\n",
       "    }\n",
       "</style>\n",
       "<table border=\"1\" class=\"dataframe\">\n",
       "  <thead>\n",
       "    <tr style=\"text-align: right;\">\n",
       "      <th></th>\n",
       "      <th>branch_name</th>\n",
       "      <th>amount_in_gbp</th>\n",
       "      <th>total_expenses</th>\n",
       "    </tr>\n",
       "  </thead>\n",
       "  <tbody>\n",
       "    <tr>\n",
       "      <th>0</th>\n",
       "      <td>Bassetlaw outlet</td>\n",
       "      <td>109549480.61</td>\n",
       "      <td>18955</td>\n",
       "    </tr>\n",
       "    <tr>\n",
       "      <th>1</th>\n",
       "      <td>Castle Point outlet</td>\n",
       "      <td>107660501.70</td>\n",
       "      <td>13851</td>\n",
       "    </tr>\n",
       "    <tr>\n",
       "      <th>2</th>\n",
       "      <td>Cheshire East outlet</td>\n",
       "      <td>105653744.11</td>\n",
       "      <td>17041</td>\n",
       "    </tr>\n",
       "  </tbody>\n",
       "</table>\n",
       "</div>"
      ],
      "text/plain": [
       "            branch_name  amount_in_gbp  total_expenses\n",
       "0      Bassetlaw outlet   109549480.61           18955\n",
       "1   Castle Point outlet   107660501.70           13851\n",
       "2  Cheshire East outlet   105653744.11           17041"
      ]
     },
     "execution_count": 729,
     "metadata": {},
     "output_type": "execute_result"
    }
   ],
   "source": [
    "df_merged"
   ]
  },
  {
   "cell_type": "code",
   "execution_count": 730,
   "id": "78970c09",
   "metadata": {},
   "outputs": [],
   "source": [
    "df_merged['profit'] = df_merged['amount_in_gbp'] - df_merged['total_expenses']"
   ]
  },
  {
   "cell_type": "code",
   "execution_count": 731,
   "id": "8a4df871",
   "metadata": {},
   "outputs": [
    {
     "data": {
      "text/html": [
       "<div>\n",
       "<style scoped>\n",
       "    .dataframe tbody tr th:only-of-type {\n",
       "        vertical-align: middle;\n",
       "    }\n",
       "\n",
       "    .dataframe tbody tr th {\n",
       "        vertical-align: top;\n",
       "    }\n",
       "\n",
       "    .dataframe thead th {\n",
       "        text-align: right;\n",
       "    }\n",
       "</style>\n",
       "<table border=\"1\" class=\"dataframe\">\n",
       "  <thead>\n",
       "    <tr style=\"text-align: right;\">\n",
       "      <th></th>\n",
       "      <th>branch_name</th>\n",
       "      <th>amount_in_gbp</th>\n",
       "      <th>total_expenses</th>\n",
       "      <th>profit</th>\n",
       "    </tr>\n",
       "  </thead>\n",
       "  <tbody>\n",
       "    <tr>\n",
       "      <th>0</th>\n",
       "      <td>Bassetlaw outlet</td>\n",
       "      <td>109549480.61</td>\n",
       "      <td>18955</td>\n",
       "      <td>109530525.61</td>\n",
       "    </tr>\n",
       "    <tr>\n",
       "      <th>1</th>\n",
       "      <td>Castle Point outlet</td>\n",
       "      <td>107660501.70</td>\n",
       "      <td>13851</td>\n",
       "      <td>107646650.70</td>\n",
       "    </tr>\n",
       "    <tr>\n",
       "      <th>2</th>\n",
       "      <td>Cheshire East outlet</td>\n",
       "      <td>105653744.11</td>\n",
       "      <td>17041</td>\n",
       "      <td>105636703.11</td>\n",
       "    </tr>\n",
       "  </tbody>\n",
       "</table>\n",
       "</div>"
      ],
      "text/plain": [
       "            branch_name  amount_in_gbp  total_expenses       profit\n",
       "0      Bassetlaw outlet   109549480.61           18955 109530525.61\n",
       "1   Castle Point outlet   107660501.70           13851 107646650.70\n",
       "2  Cheshire East outlet   105653744.11           17041 105636703.11"
      ]
     },
     "execution_count": 731,
     "metadata": {},
     "output_type": "execute_result"
    }
   ],
   "source": [
    "df_merged"
   ]
  },
  {
   "cell_type": "code",
   "execution_count": 732,
   "id": "3be4b00c",
   "metadata": {},
   "outputs": [],
   "source": [
    "top_profitable = df_merged.head(1)"
   ]
  },
  {
   "cell_type": "code",
   "execution_count": 733,
   "id": "0dce3a45",
   "metadata": {},
   "outputs": [
    {
     "data": {
      "text/html": [
       "<div>\n",
       "<style scoped>\n",
       "    .dataframe tbody tr th:only-of-type {\n",
       "        vertical-align: middle;\n",
       "    }\n",
       "\n",
       "    .dataframe tbody tr th {\n",
       "        vertical-align: top;\n",
       "    }\n",
       "\n",
       "    .dataframe thead th {\n",
       "        text-align: right;\n",
       "    }\n",
       "</style>\n",
       "<table border=\"1\" class=\"dataframe\">\n",
       "  <thead>\n",
       "    <tr style=\"text-align: right;\">\n",
       "      <th></th>\n",
       "      <th>branch_name</th>\n",
       "      <th>amount_in_gbp</th>\n",
       "      <th>total_expenses</th>\n",
       "      <th>profit</th>\n",
       "    </tr>\n",
       "  </thead>\n",
       "  <tbody>\n",
       "    <tr>\n",
       "      <th>0</th>\n",
       "      <td>Bassetlaw outlet</td>\n",
       "      <td>109549480.61</td>\n",
       "      <td>18955</td>\n",
       "      <td>109530525.61</td>\n",
       "    </tr>\n",
       "  </tbody>\n",
       "</table>\n",
       "</div>"
      ],
      "text/plain": [
       "        branch_name  amount_in_gbp  total_expenses       profit\n",
       "0  Bassetlaw outlet   109549480.61           18955 109530525.61"
      ]
     },
     "execution_count": 733,
     "metadata": {},
     "output_type": "execute_result"
    }
   ],
   "source": [
    "top_profitable"
   ]
  },
  {
   "cell_type": "code",
   "execution_count": 734,
   "id": "6b53b478",
   "metadata": {},
   "outputs": [],
   "source": [
    "bot_profitable = df_merged.tail(1)"
   ]
  },
  {
   "cell_type": "code",
   "execution_count": 735,
   "id": "a9991239",
   "metadata": {},
   "outputs": [
    {
     "data": {
      "text/html": [
       "<div>\n",
       "<style scoped>\n",
       "    .dataframe tbody tr th:only-of-type {\n",
       "        vertical-align: middle;\n",
       "    }\n",
       "\n",
       "    .dataframe tbody tr th {\n",
       "        vertical-align: top;\n",
       "    }\n",
       "\n",
       "    .dataframe thead th {\n",
       "        text-align: right;\n",
       "    }\n",
       "</style>\n",
       "<table border=\"1\" class=\"dataframe\">\n",
       "  <thead>\n",
       "    <tr style=\"text-align: right;\">\n",
       "      <th></th>\n",
       "      <th>branch_name</th>\n",
       "      <th>amount_in_gbp</th>\n",
       "      <th>total_expenses</th>\n",
       "      <th>profit</th>\n",
       "    </tr>\n",
       "  </thead>\n",
       "  <tbody>\n",
       "    <tr>\n",
       "      <th>2</th>\n",
       "      <td>Cheshire East outlet</td>\n",
       "      <td>105653744.11</td>\n",
       "      <td>17041</td>\n",
       "      <td>105636703.11</td>\n",
       "    </tr>\n",
       "  </tbody>\n",
       "</table>\n",
       "</div>"
      ],
      "text/plain": [
       "            branch_name  amount_in_gbp  total_expenses       profit\n",
       "2  Cheshire East outlet   105653744.11           17041 105636703.11"
      ]
     },
     "execution_count": 735,
     "metadata": {},
     "output_type": "execute_result"
    }
   ],
   "source": [
    "bot_profitable"
   ]
  },
  {
   "cell_type": "code",
   "execution_count": null,
   "id": "c93a084d",
   "metadata": {},
   "outputs": [],
   "source": []
  }
 ],
 "metadata": {
  "kernelspec": {
   "display_name": "Python 3",
   "language": "python",
   "name": "python3"
  },
  "language_info": {
   "codemirror_mode": {
    "name": "ipython",
    "version": 3
   },
   "file_extension": ".py",
   "mimetype": "text/x-python",
   "name": "python",
   "nbconvert_exporter": "python",
   "pygments_lexer": "ipython3",
   "version": "3.8.8"
  }
 },
 "nbformat": 4,
 "nbformat_minor": 5
}
